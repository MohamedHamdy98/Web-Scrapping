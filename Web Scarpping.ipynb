{
 "cells": [
  {
   "cell_type": "code",
   "execution_count": 39,
   "id": "f1c8188c",
   "metadata": {},
   "outputs": [],
   "source": [
    "from bs4 import BeautifulSoup as bs\n",
    "from urllib.request import urlopen\n",
    "import pandas as pd"
   ]
  },
  {
   "cell_type": "markdown",
   "id": "14f1bd50",
   "metadata": {},
   "source": [
    "# URL"
   ]
  },
  {
   "cell_type": "code",
   "execution_count": 43,
   "id": "da88c833",
   "metadata": {},
   "outputs": [],
   "source": [
    "url = 'https://wuzzuf.net/search/jobs/?a=hpb&filters%5Bcity%5D%5B0%5D=Giza&q='"
   ]
  },
  {
   "cell_type": "markdown",
   "id": "2049249d",
   "metadata": {},
   "source": [
    "# Open, Read and Close URL"
   ]
  },
  {
   "cell_type": "code",
   "execution_count": 46,
   "id": "5e3344d7",
   "metadata": {},
   "outputs": [],
   "source": [
    "client = urlopen(url)\n",
    "html = client.read()\n",
    "client.close()"
   ]
  },
  {
   "cell_type": "markdown",
   "id": "174df167",
   "metadata": {},
   "source": [
    "# Parser URL: Connection between url and soup"
   ]
  },
  {
   "cell_type": "code",
   "execution_count": 9,
   "id": "e86593eb",
   "metadata": {},
   "outputs": [],
   "source": [
    "soup = bs(html, 'html.parser')"
   ]
  },
  {
   "cell_type": "markdown",
   "id": "c8dcb0c7",
   "metadata": {},
   "source": [
    "# Read Div "
   ]
  },
  {
   "cell_type": "code",
   "execution_count": 12,
   "id": "8cb17a4a",
   "metadata": {},
   "outputs": [],
   "source": [
    "containers = soup.find_all('div', {'class': 'css-1gatmva e1v1l3u10'}) "
   ]
  },
  {
   "cell_type": "code",
   "execution_count": 14,
   "id": "091bd5b8",
   "metadata": {},
   "outputs": [
    {
     "data": {
      "text/plain": [
       "15"
      ]
     },
     "execution_count": 14,
     "metadata": {},
     "output_type": "execute_result"
    }
   ],
   "source": [
    "len(containers)"
   ]
  },
  {
   "cell_type": "markdown",
   "id": "08674f69",
   "metadata": {},
   "source": [
    "# Get Data "
   ]
  },
  {
   "cell_type": "code",
   "execution_count": 20,
   "id": "3ce0bbdc",
   "metadata": {},
   "outputs": [
    {
     "data": {
      "text/plain": [
       "'Call Center Agent.'"
      ]
     },
     "execution_count": 20,
     "metadata": {},
     "output_type": "execute_result"
    }
   ],
   "source": [
    "jtitle = containers[0].findAll('h2', {'class': 'css-m604qf'})\n",
    "jtitle[0].text"
   ]
  },
  {
   "cell_type": "code",
   "execution_count": 24,
   "id": "05f65fbf",
   "metadata": {},
   "outputs": [
    {
     "data": {
      "text/plain": [
       "'Raya Customer Experience -'"
      ]
     },
     "execution_count": 24,
     "metadata": {},
     "output_type": "execute_result"
    }
   ],
   "source": [
    "companyTitle = containers[0].findAll('a', {'class': 'css-17s97q8'})\n",
    "companyTitle[0].text"
   ]
  },
  {
   "cell_type": "code",
   "execution_count": 26,
   "id": "84f827b4",
   "metadata": {},
   "outputs": [
    {
     "data": {
      "text/plain": [
       "'Full Time'"
      ]
     },
     "execution_count": 26,
     "metadata": {},
     "output_type": "execute_result"
    }
   ],
   "source": [
    "jType = containers[0].findAll('span', {'class': 'css-1ve4b75 eoyjyou0'})\n",
    "jType[0].text"
   ]
  },
  {
   "cell_type": "markdown",
   "id": "32e19470",
   "metadata": {},
   "source": [
    "# Create File CSV"
   ]
  },
  {
   "cell_type": "code",
   "execution_count": 37,
   "id": "13f0f77d",
   "metadata": {},
   "outputs": [
    {
     "data": {
      "text/plain": [
       "34"
      ]
     },
     "execution_count": 37,
     "metadata": {},
     "output_type": "execute_result"
    }
   ],
   "source": [
    "file = open('web_scrapping_wuzzaf.csv', \"w\")\n",
    "header = \"job_title, company_name, job_type\\n\"\n",
    "file.write(header)"
   ]
  },
  {
   "cell_type": "markdown",
   "id": "21b64361",
   "metadata": {},
   "source": [
    "# Get All Data in Page"
   ]
  },
  {
   "cell_type": "code",
   "execution_count": 38,
   "id": "9e89206a",
   "metadata": {},
   "outputs": [],
   "source": [
    "for container in containers:\n",
    "    \n",
    "    jtitle = container.findAll('h2', {'class': 'css-m604qf'})\n",
    "    job_title = jtitle[0].text.strip()\n",
    "    \n",
    "    companyTitle = container.findAll('a', {'class': 'css-17s97q8'})\n",
    "    company_name = companyTitle[0].text.strip()\n",
    "\n",
    "    jType = container.findAll('span', {'class': 'css-1ve4b75 eoyjyou0'})\n",
    "    job_type = jType[0].text.strip()\n",
    "    \n",
    "    file.write(job_title + \",\" + company_name + \",\" + job_type  + \"\\n\")\n",
    "file.close()"
   ]
  },
  {
   "cell_type": "code",
   "execution_count": 40,
   "id": "37914593",
   "metadata": {},
   "outputs": [
    {
     "data": {
      "text/html": [
       "<div>\n",
       "<style scoped>\n",
       "    .dataframe tbody tr th:only-of-type {\n",
       "        vertical-align: middle;\n",
       "    }\n",
       "\n",
       "    .dataframe tbody tr th {\n",
       "        vertical-align: top;\n",
       "    }\n",
       "\n",
       "    .dataframe thead th {\n",
       "        text-align: right;\n",
       "    }\n",
       "</style>\n",
       "<table border=\"1\" class=\"dataframe\">\n",
       "  <thead>\n",
       "    <tr style=\"text-align: right;\">\n",
       "      <th></th>\n",
       "      <th>job_title</th>\n",
       "      <th>company_name</th>\n",
       "      <th>job_type</th>\n",
       "    </tr>\n",
       "  </thead>\n",
       "  <tbody>\n",
       "    <tr>\n",
       "      <th>0</th>\n",
       "      <td>Call Center Agent.</td>\n",
       "      <td>Raya Customer Experience -</td>\n",
       "      <td>Full Time</td>\n",
       "    </tr>\n",
       "    <tr>\n",
       "      <th>1</th>\n",
       "      <td>Senior Oracle Developer</td>\n",
       "      <td>Confidential -</td>\n",
       "      <td>Full Time</td>\n",
       "    </tr>\n",
       "    <tr>\n",
       "      <th>2</th>\n",
       "      <td>Call Center Advisor - Vodafone Ireland (Work F...</td>\n",
       "      <td>_VOIS Egypt -</td>\n",
       "      <td>Full Time</td>\n",
       "    </tr>\n",
       "    <tr>\n",
       "      <th>3</th>\n",
       "      <td>Warehouse Executive</td>\n",
       "      <td>Just HR -</td>\n",
       "      <td>Full Time</td>\n",
       "    </tr>\n",
       "    <tr>\n",
       "      <th>4</th>\n",
       "      <td>Social Media Moderator</td>\n",
       "      <td>English Zone -</td>\n",
       "      <td>Full Time</td>\n",
       "    </tr>\n",
       "    <tr>\n",
       "      <th>5</th>\n",
       "      <td>Senior Sales &amp; Marketing Manager</td>\n",
       "      <td>FlexFilms Egypt -</td>\n",
       "      <td>Full Time</td>\n",
       "    </tr>\n",
       "    <tr>\n",
       "      <th>6</th>\n",
       "      <td>Sr. Scaffolding Engineer/ Section Head</td>\n",
       "      <td>DME Holding -</td>\n",
       "      <td>Full Time</td>\n",
       "    </tr>\n",
       "    <tr>\n",
       "      <th>7</th>\n",
       "      <td>Site Team leader</td>\n",
       "      <td>Confidential -</td>\n",
       "      <td>Full Time</td>\n",
       "    </tr>\n",
       "    <tr>\n",
       "      <th>8</th>\n",
       "      <td>Planning Engineer</td>\n",
       "      <td>PCE -</td>\n",
       "      <td>Full Time</td>\n",
       "    </tr>\n",
       "    <tr>\n",
       "      <th>9</th>\n",
       "      <td>Power Quality Engineer</td>\n",
       "      <td>Biobusiness -</td>\n",
       "      <td>Full Time</td>\n",
       "    </tr>\n",
       "    <tr>\n",
       "      <th>10</th>\n",
       "      <td>Hardware Team Leader Engineer</td>\n",
       "      <td>Biobusiness -</td>\n",
       "      <td>Full Time</td>\n",
       "    </tr>\n",
       "    <tr>\n",
       "      <th>11</th>\n",
       "      <td>Project Manager - Technology Sector (Governmen...</td>\n",
       "      <td>E-tax -</td>\n",
       "      <td>Full Time</td>\n",
       "    </tr>\n",
       "    <tr>\n",
       "      <th>12</th>\n",
       "      <td>Senior Mechanical Engineer</td>\n",
       "      <td>Zamil Steel Buildings Co -</td>\n",
       "      <td>Full Time</td>\n",
       "    </tr>\n",
       "    <tr>\n",
       "      <th>13</th>\n",
       "      <td>Food Safety Consultant (Posted 11 Sep 22)</td>\n",
       "      <td>Abt Associates -</td>\n",
       "      <td>Part Time</td>\n",
       "    </tr>\n",
       "    <tr>\n",
       "      <th>14</th>\n",
       "      <td>Warehouse Supervisor - Construction</td>\n",
       "      <td>TRAVCO GROUP -</td>\n",
       "      <td>Full Time</td>\n",
       "    </tr>\n",
       "  </tbody>\n",
       "</table>\n",
       "</div>"
      ],
      "text/plain": [
       "                                            job_title  \\\n",
       "0                                  Call Center Agent.   \n",
       "1                             Senior Oracle Developer   \n",
       "2   Call Center Advisor - Vodafone Ireland (Work F...   \n",
       "3                                 Warehouse Executive   \n",
       "4                              Social Media Moderator   \n",
       "5                    Senior Sales & Marketing Manager   \n",
       "6              Sr. Scaffolding Engineer/ Section Head   \n",
       "7                                    Site Team leader   \n",
       "8                                   Planning Engineer   \n",
       "9                              Power Quality Engineer   \n",
       "10                      Hardware Team Leader Engineer   \n",
       "11  Project Manager - Technology Sector (Governmen...   \n",
       "12                         Senior Mechanical Engineer   \n",
       "13          Food Safety Consultant (Posted 11 Sep 22)   \n",
       "14                Warehouse Supervisor - Construction   \n",
       "\n",
       "                  company_name   job_type  \n",
       "0   Raya Customer Experience -  Full Time  \n",
       "1               Confidential -  Full Time  \n",
       "2                _VOIS Egypt -  Full Time  \n",
       "3                    Just HR -  Full Time  \n",
       "4               English Zone -  Full Time  \n",
       "5            FlexFilms Egypt -  Full Time  \n",
       "6                DME Holding -  Full Time  \n",
       "7               Confidential -  Full Time  \n",
       "8                        PCE -  Full Time  \n",
       "9                Biobusiness -  Full Time  \n",
       "10               Biobusiness -  Full Time  \n",
       "11                     E-tax -  Full Time  \n",
       "12  Zamil Steel Buildings Co -  Full Time  \n",
       "13            Abt Associates -  Part Time  \n",
       "14              TRAVCO GROUP -  Full Time  "
      ]
     },
     "execution_count": 40,
     "metadata": {},
     "output_type": "execute_result"
    }
   ],
   "source": [
    "df = pd.read_csv('web_scrapping_wuzzaf.csv')\n",
    "df"
   ]
  },
  {
   "cell_type": "markdown",
   "id": "4fb20b52",
   "metadata": {},
   "source": [
    "# Get Data For All Pages"
   ]
  },
  {
   "cell_type": "code",
   "execution_count": 104,
   "id": "dc631b0c",
   "metadata": {},
   "outputs": [],
   "source": [
    "datas = []\n",
    "for page in range(11):\n",
    "    url = f'https://wuzzuf.net/search/jobs/?a=hpb&filters%5Bcity%5D%5B0%5D=Giza&q=&start={page}'\n",
    "    \n",
    "    client = urlopen(url)\n",
    "    html = client.read()\n",
    "    client.close()\n",
    "\n",
    "    soup = bs(html, 'html.parser')\n",
    "    containers = soup.find_all('div', {'class': 'css-1gatmva e1v1l3u10'})\n",
    "\n",
    "    for container in containers:\n",
    "        \n",
    "        jtitle = container.findAll('h2', {'class': 'css-m604qf'})\n",
    "        job_title = jtitle[0].text.strip()\n",
    "\n",
    "        companyTitle = container.findAll('a', {'class': 'css-17s97q8'})\n",
    "        company_name = companyTitle[0].text.strip()\n",
    "      \n",
    "        jType = container.findAll('span', {'class': 'css-1ve4b75 eoyjyou0'})\n",
    "        job_type = jType[0].text.strip()\n",
    "\n",
    "        data_dic = {'job_title':job_title, 'company_name':company_name, 'job_type':job_type}\n",
    "        datas.append(data_dic)\n",
    "        \n",
    "df = pd.DataFrame(datas)"
   ]
  },
  {
   "cell_type": "code",
   "execution_count": 107,
   "id": "2a6463b4",
   "metadata": {},
   "outputs": [
    {
     "data": {
      "text/html": [
       "<div>\n",
       "<style scoped>\n",
       "    .dataframe tbody tr th:only-of-type {\n",
       "        vertical-align: middle;\n",
       "    }\n",
       "\n",
       "    .dataframe tbody tr th {\n",
       "        vertical-align: top;\n",
       "    }\n",
       "\n",
       "    .dataframe thead th {\n",
       "        text-align: right;\n",
       "    }\n",
       "</style>\n",
       "<table border=\"1\" class=\"dataframe\">\n",
       "  <thead>\n",
       "    <tr style=\"text-align: right;\">\n",
       "      <th></th>\n",
       "      <th>job_title</th>\n",
       "      <th>company_name</th>\n",
       "      <th>job_type</th>\n",
       "    </tr>\n",
       "  </thead>\n",
       "  <tbody>\n",
       "    <tr>\n",
       "      <th>0</th>\n",
       "      <td>Call Center Agent.</td>\n",
       "      <td>Raya Customer Experience -</td>\n",
       "      <td>Full Time</td>\n",
       "    </tr>\n",
       "    <tr>\n",
       "      <th>1</th>\n",
       "      <td>Senior Oracle Developer</td>\n",
       "      <td>Confidential -</td>\n",
       "      <td>Full Time</td>\n",
       "    </tr>\n",
       "    <tr>\n",
       "      <th>2</th>\n",
       "      <td>Call Center Advisor - Vodafone Ireland (Work F...</td>\n",
       "      <td>_VOIS Egypt -</td>\n",
       "      <td>Full Time</td>\n",
       "    </tr>\n",
       "    <tr>\n",
       "      <th>3</th>\n",
       "      <td>Warehouse Executive</td>\n",
       "      <td>Just HR -</td>\n",
       "      <td>Full Time</td>\n",
       "    </tr>\n",
       "    <tr>\n",
       "      <th>4</th>\n",
       "      <td>Social Media Moderator</td>\n",
       "      <td>English Zone -</td>\n",
       "      <td>Full Time</td>\n",
       "    </tr>\n",
       "    <tr>\n",
       "      <th>...</th>\n",
       "      <td>...</td>\n",
       "      <td>...</td>\n",
       "      <td>...</td>\n",
       "    </tr>\n",
       "    <tr>\n",
       "      <th>160</th>\n",
       "      <td>Purchasing Specialist</td>\n",
       "      <td>Egyptian Contracting Centre -</td>\n",
       "      <td>Full Time</td>\n",
       "    </tr>\n",
       "    <tr>\n",
       "      <th>161</th>\n",
       "      <td>Accounts Payable Accountant</td>\n",
       "      <td>Concrete For Readymade Garments -</td>\n",
       "      <td>Full Time</td>\n",
       "    </tr>\n",
       "    <tr>\n",
       "      <th>162</th>\n",
       "      <td>HTML Developer</td>\n",
       "      <td>Elev8Assessments -</td>\n",
       "      <td>Full Time</td>\n",
       "    </tr>\n",
       "    <tr>\n",
       "      <th>163</th>\n",
       "      <td>Treasurer</td>\n",
       "      <td>Confidential -</td>\n",
       "      <td>Full Time</td>\n",
       "    </tr>\n",
       "    <tr>\n",
       "      <th>164</th>\n",
       "      <td>Project Engineer MEP</td>\n",
       "      <td>EMECO for Engineering Industries and Supplies -</td>\n",
       "      <td>Full Time</td>\n",
       "    </tr>\n",
       "  </tbody>\n",
       "</table>\n",
       "<p>165 rows × 3 columns</p>\n",
       "</div>"
      ],
      "text/plain": [
       "                                             job_title  \\\n",
       "0                                   Call Center Agent.   \n",
       "1                              Senior Oracle Developer   \n",
       "2    Call Center Advisor - Vodafone Ireland (Work F...   \n",
       "3                                  Warehouse Executive   \n",
       "4                               Social Media Moderator   \n",
       "..                                                 ...   \n",
       "160                              Purchasing Specialist   \n",
       "161                        Accounts Payable Accountant   \n",
       "162                                     HTML Developer   \n",
       "163                                          Treasurer   \n",
       "164                               Project Engineer MEP   \n",
       "\n",
       "                                        company_name   job_type  \n",
       "0                         Raya Customer Experience -  Full Time  \n",
       "1                                     Confidential -  Full Time  \n",
       "2                                      _VOIS Egypt -  Full Time  \n",
       "3                                          Just HR -  Full Time  \n",
       "4                                     English Zone -  Full Time  \n",
       "..                                               ...        ...  \n",
       "160                    Egyptian Contracting Centre -  Full Time  \n",
       "161                Concrete For Readymade Garments -  Full Time  \n",
       "162                               Elev8Assessments -  Full Time  \n",
       "163                                   Confidential -  Full Time  \n",
       "164  EMECO for Engineering Industries and Supplies -  Full Time  \n",
       "\n",
       "[165 rows x 3 columns]"
      ]
     },
     "execution_count": 107,
     "metadata": {},
     "output_type": "execute_result"
    }
   ],
   "source": [
    "df"
   ]
  },
  {
   "cell_type": "code",
   "execution_count": null,
   "id": "b608f3ec",
   "metadata": {},
   "outputs": [],
   "source": []
  }
 ],
 "metadata": {
  "kernelspec": {
   "display_name": "Python 3 (ipykernel)",
   "language": "python",
   "name": "python3"
  },
  "language_info": {
   "codemirror_mode": {
    "name": "ipython",
    "version": 3
   },
   "file_extension": ".py",
   "mimetype": "text/x-python",
   "name": "python",
   "nbconvert_exporter": "python",
   "pygments_lexer": "ipython3",
   "version": "3.8.13"
  }
 },
 "nbformat": 4,
 "nbformat_minor": 5
}
